{
 "cells": [
  {
   "cell_type": "markdown",
   "metadata": {},
   "source": [
    "# Eventador Brewery Example"
   ]
  },
  {
   "cell_type": "markdown",
   "metadata": {},
   "source": [
    "For this example we will do some hypothetical brewery automation based on real time sensor data. Sensors on beer mash tuns gather the current temperature levels and produce it to the pipeline. The data is then aggregated in real-time in PipelineDB. This allows the brewer to monitor the temperature levels and ensure it's below a particular threshold for good beer. If it gets out of threshold an actuator can reduce or increase the temperature."
   ]
  },
  {
   "cell_type": "markdown",
   "metadata": {},
   "source": [
    "Every notebook has a suite of helper commands that make life easier. These helpers already understand your login creds, endpoints and context. They can be referenced with ```e.help()```"
   ]
  },
  {
   "cell_type": "code",
   "execution_count": 1,
   "metadata": {
    "collapsed": false
   },
   "outputs": [
    {
     "name": "stdout",
     "output_type": "stream",
     "text": [
      "\n",
      "-------------------------------------------------------------------------------\n",
      "Eventador Notebooks\n",
      "-------------------------------------------------------------------------------\n",
      "\n",
      "To run a method in a cell, press <alt>-<enter> or click the play button.\n",
      "\n",
      "Built-ins:\n",
      "\n",
      "clear_output()          Clear output of current cell\n",
      "display()               Format output\n",
      "plt                     Matplotlib Pyplot context\n",
      "\n",
      "Valid Eventador methods:\n",
      "\n",
      "# Kafka\n",
      "\n",
      "e.kafka                 Return a PyKafka connection object\n",
      "e.kafka_connect_string  Return Kafka connect string to use in applications\n",
      "e.kfetch(topic)         Return sample documents (default: 5) from topic [ex: e.kfetch('my_messages')]\n",
      "e.publish(topic, doc)   Publish a single document (from a dictionary) to topic\n",
      "e.topics                List topics in Kafka\n",
      "\n",
      "# PipelineDB\n",
      "\n",
      "e.columns(table)        List columns for table or view\n",
      "e.db                    Return a psycopg2 connection object\n",
      "e.dc                    Return a psycopg2 DictCursor object\n",
      "e.query(query)\t\t    Run (query) and return results as dictionary\n",
      "e.sq                    Sample JSON payload from default view\n",
      "e.tables                List tables\n",
      "e.views                 List continuous views\n",
      "e.viewsdetail           List continuous views with query\n",
      "\n",
      "# Analytics\n",
      "\n",
      "e.df                    Pandas DataFrame object [ex: e.df(e.query(\"select * from logs\"))]\n",
      "\n",
      "# Other\n",
      "\n",
      "e.update_eventador()    Update this module to the latest version\n",
      "\n"
     ]
    }
   ],
   "source": [
    "e.help()"
   ]
  },
  {
   "cell_type": "markdown",
   "metadata": {},
   "source": [
    "### Inspect the data coming into the pipeline. Let's pull a few messages"
   ]
  },
  {
   "cell_type": "code",
   "execution_count": 2,
   "metadata": {
    "collapsed": false
   },
   "outputs": [
    {
     "name": "stdout",
     "output_type": "stream",
     "text": [
      "{u'sensor': u'MashTun1', u'temp': 83}\n",
      "{u'sensor': u'MashTun2', u'temp': 50}\n",
      "{u'sensor': u'MashTun1', u'temp': 42}\n",
      "{u'sensor': u'MashTun2', u'temp': 44}\n",
      "{u'sensor': u'MashTun2', u'temp': 58}\n",
      "{u'sensor': u'MashTun1', u'temp': 83}\n",
      "{u'sensor': u'MashTun1', u'temp': 42}\n",
      "{u'sensor': u'MashTun2', u'temp': 58}\n",
      "{u'sensor': u'MashTun2', u'temp': 45}\n",
      "{u'sensor': u'MashTun1', u'temp': 41}\n",
      "{u'sensor': u'MashTun1', u'temp': 83}\n",
      "{u'sensor': u'MashTun2', u'temp': 50}\n",
      "{u'sensor': u'MashTun1', u'temp': 42}\n",
      "{u'sensor': u'MashTun1', u'temp': 41}\n",
      "{u'sensor': u'MashTun2', u'temp': 44}\n",
      "{u'sensor': u'MashTun1', u'temp': 83}\n",
      "{u'sensor': u'MashTun1', u'temp': 42}\n",
      "{u'sensor': u'MashTun2', u'temp': 44}\n",
      "{u'sensor': u'MashTun2', u'temp': 58}\n",
      "{u'sensor': u'MashTun2', u'temp': 45}\n",
      "{u'sensor': u'MashTun1', u'temp': 83}\n",
      "{u'sensor': u'MashTun1', u'temp': 42}\n",
      "{u'sensor': u'MashTun2', u'temp': 45}\n",
      "{u'sensor': u'MashTun1', u'temp': 41}\n",
      "{u'sensor': u'MashTun2', u'temp': 70}\n",
      "{u'sensor': u'MashTun1', u'temp': 83}\n",
      "{u'sensor': u'MashTun2', u'temp': 50}\n",
      "{u'sensor': u'MashTun1', u'temp': 42}\n",
      "{u'sensor': u'MashTun2', u'temp': 44}\n",
      "{u'sensor': u'MashTun2', u'temp': 58}\n",
      "{u'sensor': u'MashTun1', u'temp': 83}\n",
      "{u'sensor': u'MashTun1', u'temp': 42}\n",
      "{u'sensor': u'MashTun2', u'temp': 44}\n",
      "{u'sensor': u'MashTun2', u'temp': 58}\n",
      "{u'sensor': u'MashTun2', u'temp': 45}\n",
      "{u'sensor': u'MashTun1', u'temp': 42}\n",
      "{u'sensor': u'MashTun1', u'temp': 41}\n",
      "{u'sensor': u'MashTun1', u'temp': 43}\n",
      "{u'sensor': u'MashTun2', u'temp': 80}\n",
      "{u'sensor': u'MashTun1', u'temp': 37}\n",
      "{u'sensor': u'MashTun1', u'temp': 83}\n",
      "{u'sensor': u'MashTun2', u'temp': 50}\n",
      "{u'sensor': u'MashTun1', u'temp': 42}\n",
      "{u'sensor': u'MashTun2', u'temp': 44}\n",
      "{u'sensor': u'MashTun2', u'temp': 58}\n"
     ]
    }
   ],
   "source": [
    "for i in range(1, 10):\n",
    "    e.kfetch('defaultsink')"
   ]
  },
  {
   "cell_type": "markdown",
   "metadata": {},
   "source": [
    "### Display the continuous views we have (created as part of the getting started guide)"
   ]
  },
  {
   "cell_type": "code",
   "execution_count": 3,
   "metadata": {
    "collapsed": false
   },
   "outputs": [
    {
     "data": {
      "text/html": [
       "<div>\n",
       "<table border=\"1\" class=\"dataframe\">\n",
       "  <thead>\n",
       "    <tr style=\"text-align: right;\">\n",
       "      <th></th>\n",
       "      <th>0</th>\n",
       "    </tr>\n",
       "  </thead>\n",
       "  <tbody>\n",
       "    <tr>\n",
       "      <th>0</th>\n",
       "      <td>ev_sample_view</td>\n",
       "    </tr>\n",
       "    <tr>\n",
       "      <th>1</th>\n",
       "      <td>brewery_sensor_temps</td>\n",
       "    </tr>\n",
       "    <tr>\n",
       "      <th>2</th>\n",
       "      <td>brewery_temps_by_hourofday</td>\n",
       "    </tr>\n",
       "    <tr>\n",
       "      <th>3</th>\n",
       "      <td>brewery_sensor_temps_by_second</td>\n",
       "    </tr>\n",
       "    <tr>\n",
       "      <th>4</th>\n",
       "      <td>brewery_sensor_by_minute</td>\n",
       "    </tr>\n",
       "  </tbody>\n",
       "</table>\n",
       "</div>"
      ],
      "text/plain": [
       "                                0\n",
       "0                  ev_sample_view\n",
       "1            brewery_sensor_temps\n",
       "2      brewery_temps_by_hourofday\n",
       "3  brewery_sensor_temps_by_second\n",
       "4        brewery_sensor_by_minute"
      ]
     },
     "metadata": {},
     "output_type": "display_data"
    }
   ],
   "source": [
    "display(e.df(e.views))"
   ]
  },
  {
   "cell_type": "markdown",
   "metadata": {},
   "source": [
    "### Setup the SQL we will be running"
   ]
  },
  {
   "cell_type": "code",
   "execution_count": 4,
   "metadata": {
    "collapsed": true
   },
   "outputs": [],
   "source": [
    "sql = \"select * from brewery_sensor_temps\""
   ]
  },
  {
   "cell_type": "markdown",
   "metadata": {},
   "source": [
    "### Test query the continuous view"
   ]
  },
  {
   "cell_type": "code",
   "execution_count": 5,
   "metadata": {
    "collapsed": false
   },
   "outputs": [
    {
     "data": {
      "text/html": [
       "<div>\n",
       "<table border=\"1\" class=\"dataframe\">\n",
       "  <thead>\n",
       "    <tr style=\"text-align: right;\">\n",
       "      <th></th>\n",
       "      <th>avg</th>\n",
       "      <th>sensor</th>\n",
       "    </tr>\n",
       "  </thead>\n",
       "  <tbody>\n",
       "    <tr>\n",
       "      <th>0</th>\n",
       "      <td>60.3064516129032258</td>\n",
       "      <td>MashTun1</td>\n",
       "    </tr>\n",
       "    <tr>\n",
       "      <th>1</th>\n",
       "      <td>62.4193548387096774</td>\n",
       "      <td>MashTun2</td>\n",
       "    </tr>\n",
       "  </tbody>\n",
       "</table>\n",
       "</div>"
      ],
      "text/plain": [
       "                   avg    sensor\n",
       "0  60.3064516129032258  MashTun1\n",
       "1  62.4193548387096774  MashTun2"
      ]
     },
     "metadata": {},
     "output_type": "display_data"
    }
   ],
   "source": [
    "display(e.df(e.query(sql)))"
   ]
  },
  {
   "cell_type": "markdown",
   "metadata": {},
   "source": [
    "### Tell us if temperatures are out of spec, page the brewmaster. The continuous view is the last 5 minutes of rolling temperature averages."
   ]
  },
  {
   "cell_type": "code",
   "execution_count": 6,
   "metadata": {
    "collapsed": false
   },
   "outputs": [
    {
     "data": {
      "text/html": [
       "<div>\n",
       "<table border=\"1\" class=\"dataframe\">\n",
       "  <thead>\n",
       "    <tr style=\"text-align: right;\">\n",
       "      <th></th>\n",
       "      <th>avg</th>\n",
       "      <th>sensor</th>\n",
       "      <th>alert</th>\n",
       "    </tr>\n",
       "  </thead>\n",
       "  <tbody>\n",
       "    <tr>\n",
       "      <th>0</th>\n",
       "      <td>60.3064516129032258</td>\n",
       "      <td>MashTun1</td>\n",
       "      <td>False</td>\n",
       "    </tr>\n",
       "    <tr>\n",
       "      <th>1</th>\n",
       "      <td>62.4193548387096774</td>\n",
       "      <td>MashTun2</td>\n",
       "      <td>True</td>\n",
       "    </tr>\n",
       "  </tbody>\n",
       "</table>\n",
       "</div>"
      ],
      "text/plain": [
       "                   avg    sensor  alert\n",
       "0  60.3064516129032258  MashTun1  False\n",
       "1  62.4193548387096774  MashTun2   True"
      ]
     },
     "metadata": {},
     "output_type": "display_data"
    }
   ],
   "source": [
    "import pandas as pd\n",
    "df = pd.DataFrame(e.query(sql))\n",
    "df['alert'] = False\n",
    "for index, row in df.iterrows():\n",
    "    if row.avg < 59 or row.avg > 62:\n",
    "       df.set_value(index, 'alert', True)\n",
    "       ''' perhaps we page the brewmaster\n",
    "           page_brewmaster(df['sensor'], df['avg'])\n",
    "       '''\n",
    "display(df)"
   ]
  },
  {
   "cell_type": "markdown",
   "metadata": {},
   "source": [
    "### Adjust the temperature using controller API"
   ]
  },
  {
   "cell_type": "code",
   "execution_count": 7,
   "metadata": {
    "collapsed": false
   },
   "outputs": [
    {
     "name": "stdout",
     "output_type": "stream",
     "text": [
      "need adjustment: element by -2.4193548387096774\n"
     ]
    }
   ],
   "source": [
    "target_temp = 60\n",
    "df = pd.DataFrame(e.query(sql))\n",
    "for index, row in df.iterrows():\n",
    "    if row.avg < 59 or row.avg > 62:\n",
    "       delta = target_temp-row.avg\n",
    "       ''' throttle the heating equipment\n",
    "           element.set_target_adjust(delta)\n",
    "       '''\n",
    "       print \"need adjustment: element by {}\".format(delta)"
   ]
  },
  {
   "cell_type": "markdown",
   "metadata": {},
   "source": [
    "### Watch the data stream in real time by sensor."
   ]
  },
  {
   "cell_type": "code",
   "execution_count": 8,
   "metadata": {
    "collapsed": false
   },
   "outputs": [
    {
     "data": {
      "text/html": [
       "<div>\n",
       "<table border=\"1\" class=\"dataframe\">\n",
       "  <thead>\n",
       "    <tr style=\"text-align: right;\">\n",
       "      <th></th>\n",
       "      <th>avg</th>\n",
       "      <th>sensor</th>\n",
       "    </tr>\n",
       "  </thead>\n",
       "  <tbody>\n",
       "    <tr>\n",
       "      <th>0</th>\n",
       "      <td>59.7936507936507937</td>\n",
       "      <td>MashTun1</td>\n",
       "    </tr>\n",
       "    <tr>\n",
       "      <th>1</th>\n",
       "      <td>62.8412698412698413</td>\n",
       "      <td>MashTun2</td>\n",
       "    </tr>\n",
       "  </tbody>\n",
       "</table>\n",
       "</div>"
      ],
      "text/plain": [
       "                   avg    sensor\n",
       "0  59.7936507936507937  MashTun1\n",
       "1  62.8412698412698413  MashTun2"
      ]
     },
     "metadata": {},
     "output_type": "display_data"
    }
   ],
   "source": [
    "import time\n",
    "sql = \"select * from brewery_sensor_temps\"\n",
    "df = pd.DataFrame(e.query(sql))\n",
    "display(df)\n",
    "for i in range(1, 20):\n",
    "    u = pd.DataFrame(e.query(sql))\n",
    "    df.update(u)\n",
    "    clear_output()\n",
    "    display(df)\n",
    "    time.sleep(1)"
   ]
  },
  {
   "cell_type": "code",
   "execution_count": 9,
   "metadata": {
    "collapsed": false
   },
   "outputs": [
    {
     "data": {
      "text/html": [
       "<div>\n",
       "<table border=\"1\" class=\"dataframe\">\n",
       "  <thead>\n",
       "    <tr style=\"text-align: right;\">\n",
       "      <th></th>\n",
       "      <th>avg</th>\n",
       "      <th>sensor</th>\n",
       "    </tr>\n",
       "  </thead>\n",
       "  <tbody>\n",
       "    <tr>\n",
       "      <th>0</th>\n",
       "      <td>59.7936507936507937</td>\n",
       "      <td>MashTun1</td>\n",
       "    </tr>\n",
       "    <tr>\n",
       "      <th>1</th>\n",
       "      <td>62.8412698412698413</td>\n",
       "      <td>MashTun2</td>\n",
       "    </tr>\n",
       "  </tbody>\n",
       "</table>\n",
       "</div>"
      ],
      "text/plain": [
       "                   avg    sensor\n",
       "0  59.7936507936507937  MashTun1\n",
       "1  62.8412698412698413  MashTun2"
      ]
     },
     "metadata": {},
     "output_type": "display_data"
    }
   ],
   "source": [
    "sql = \"select * from brewery_sensor_temps\"\n",
    "df = pd.DataFrame(e.query(sql))\n",
    "display(df)"
   ]
  },
  {
   "cell_type": "markdown",
   "metadata": {},
   "source": [
    "### Create a graph of temperatures by device over time"
   ]
  },
  {
   "cell_type": "code",
   "execution_count": 10,
   "metadata": {
    "collapsed": false
   },
   "outputs": [
    {
     "data": {
      "text/html": [
       "<div>\n",
       "<table border=\"1\" class=\"dataframe\">\n",
       "  <thead>\n",
       "    <tr style=\"text-align: right;\">\n",
       "      <th></th>\n",
       "      <th>ts</th>\n",
       "      <th>sensor</th>\n",
       "      <th>avg</th>\n",
       "    </tr>\n",
       "  </thead>\n",
       "  <tbody>\n",
       "    <tr>\n",
       "      <th>0</th>\n",
       "      <td>2016-10-07 16:57:00+00:00</td>\n",
       "      <td>MashTun1</td>\n",
       "      <td>62.884615</td>\n",
       "    </tr>\n",
       "    <tr>\n",
       "      <th>1</th>\n",
       "      <td>2016-10-07 17:03:00+00:00</td>\n",
       "      <td>MashTun1</td>\n",
       "      <td>64.692308</td>\n",
       "    </tr>\n",
       "    <tr>\n",
       "      <th>2</th>\n",
       "      <td>2016-10-07 17:20:00+00:00</td>\n",
       "      <td>MashTun1</td>\n",
       "      <td>64.000000</td>\n",
       "    </tr>\n",
       "  </tbody>\n",
       "</table>\n",
       "</div>"
      ],
      "text/plain": [
       "                         ts    sensor        avg\n",
       "0 2016-10-07 16:57:00+00:00  MashTun1  62.884615\n",
       "1 2016-10-07 17:03:00+00:00  MashTun1  64.692308\n",
       "2 2016-10-07 17:20:00+00:00  MashTun1  64.000000"
      ]
     },
     "execution_count": 10,
     "metadata": {},
     "output_type": "execute_result"
    }
   ],
   "source": [
    "sql = \"select * from brewery_sensor_temps_by_minute\"\n",
    "df = pd.DataFrame(e.query(sql))\n",
    "cols = ['ts','sensor','avg']\n",
    "df = df[cols]\n",
    "df.avg = df.avg.astype(float)\n",
    "df.head(3)"
   ]
  },
  {
   "cell_type": "code",
   "execution_count": 11,
   "metadata": {
    "collapsed": false
   },
   "outputs": [],
   "source": [
    "df = df.pivot('ts','sensor','avg')\n",
    "del df.index.name"
   ]
  },
  {
   "cell_type": "code",
   "execution_count": 12,
   "metadata": {
    "collapsed": false
   },
   "outputs": [
    {
     "data": {
      "text/plain": [
       "<matplotlib.figure.Figure at 0x7f9bd798ddd0>"
      ]
     },
     "metadata": {},
     "output_type": "display_data"
    },
    {
     "data": {
      "image/png": "[encoded data removed]",
      "text/plain": [
       "<matplotlib.figure.Figure at 0x7f9bd798d450>"
      ]
     },
     "metadata": {},
     "output_type": "display_data"
    }
   ],
   "source": [
    "plt.figure();\n",
    "df.plot(figsize=(15, 4), title=\"Brewery Device Temps\");\n",
    "plt.legend(loc=3)\n",
    "plt.show()"
   ]
  },
  {
   "cell_type": "code",
   "execution_count": null,
   "metadata": {
    "collapsed": true
   },
   "outputs": [],
   "source": []
  }
 ],
 "metadata": {
  "kernelspec": {
   "display_name": "Python 2",
   "language": "python",
   "name": "python2"
  },
  "language_info": {
   "codemirror_mode": {
    "name": "ipython",
    "version": 2
   },
   "file_extension": ".py",
   "mimetype": "text/x-python",
   "name": "python",
   "nbconvert_exporter": "python",
   "pygments_lexer": "ipython2",
   "version": "2.7.12"
  }
 },
 "nbformat": 4,
 "nbformat_minor": 1
}
